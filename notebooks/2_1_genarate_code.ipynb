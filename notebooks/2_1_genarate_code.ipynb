{
  "nbformat": 4,
  "nbformat_minor": 0,
  "metadata": {
    "colab": {
      "provenance": [],
      "authorship_tag": "ABX9TyPeppHBRAmCrPJZ4dcUU4XH",
      "include_colab_link": true
    },
    "kernelspec": {
      "name": "python3",
      "display_name": "Python 3"
    },
    "language_info": {
      "name": "python"
    }
  },
  "cells": [
    {
      "cell_type": "markdown",
      "metadata": {
        "id": "view-in-github",
        "colab_type": "text"
      },
      "source": [
        "<a href=\"https://colab.research.google.com/github/grace2riku/gihyo-ChatGPT_copy/blob/main/notebooks/2_1_genarate_code.ipynb\" target=\"_parent\"><img src=\"https://colab.research.google.com/assets/colab-badge.svg\" alt=\"Open In Colab\"/></a>"
      ]
    },
    {
      "cell_type": "markdown",
      "source": [
        "理解はしているが苦手なものを任せる"
      ],
      "metadata": {
        "id": "pyCgI7dmvoLb"
      }
    },
    {
      "cell_type": "code",
      "source": [
        "import re\n",
        "\n",
        "def validate_password(password):\n",
        "    # 正規表現パターンを定義\n",
        "    pattern = r\"^(?=.*[a-z])(?=.*[A-Z])(?=.*\\d)(?=.*[@$!%*?&])[A-Za-z\\d@$!%*?&]{8,}$\"\n",
        "    # パスワードを検証\n",
        "    if re.match(pattern, password):\n",
        "        return True\n",
        "    else:\n",
        "        return False\n",
        "\n",
        "# パスワードを入力して検証する例\n",
        "password = input(\"パスワードを入力してください: \")\n",
        "\n",
        "if validate_password(password):\n",
        "    print(\"パスワードが有効です。\")\n",
        "else:\n",
        "    print(\"パスワードが無効です。\")\n"
      ],
      "metadata": {
        "colab": {
          "base_uri": "https://localhost:8080/"
        },
        "id": "WjJLkSvqt7Vr",
        "outputId": "8ed64360-49d1-45fa-dbb3-a222f3055cc9"
      },
      "execution_count": null,
      "outputs": [
        {
          "output_type": "stream",
          "name": "stdout",
          "text": [
            "パスワードを入力してください: Abc123$%Zyy\n",
            "パスワードが有効です。\n"
          ]
        }
      ]
    },
    {
      "cell_type": "code",
      "source": [
        "def read_text_file(file_path):\n",
        "    try:\n",
        "        with open(file_path, 'r', encoding='cp932', errors='ignore') as file:\n",
        "            content = file.read()\n",
        "            return content\n",
        "    except FileNotFoundError:\n",
        "        print(\"ファイルが見つかりませんでした。\")\n",
        "    except Exception as e:\n",
        "        print(\"エラーが発生しました:\", e)\n",
        "\n",
        "# ファイルのパスを指定してテキストファイルを読み込む例\n",
        "file_path = \"example.txt\"  # 任意のファイルパスを指定してください\n",
        "\n",
        "content = read_text_file(file_path)\n",
        "if content:\n",
        "    print(\"ファイル内容:\")\n",
        "    print(content)\n"
      ],
      "metadata": {
        "colab": {
          "base_uri": "https://localhost:8080/"
        },
        "id": "zeim-xq1w1d6",
        "outputId": "deba2bff-439d-4062-d662-7bb71c1c23ad"
      },
      "execution_count": null,
      "outputs": [
        {
          "output_type": "stream",
          "name": "stdout",
          "text": [
            "ファイルが見つかりませんでした。\n"
          ]
        }
      ]
    },
    {
      "cell_type": "markdown",
      "source": [
        "小さな単位で依頼する"
      ],
      "metadata": {
        "id": "f8t-zXqJuJhg"
      }
    },
    {
      "cell_type": "code",
      "source": [
        "import requests\n",
        "\n",
        "def get_github_user_info(username):\n",
        "    url = f'https://api.github.com/users/{username}'\n",
        "    try:\n",
        "        response = requests.get(url)\n",
        "        if response.status_code == 200:\n",
        "            user_data = response.json()\n",
        "            return user_data\n",
        "        else:\n",
        "            print(f\"GitHub APIエラー: {response.status_code}\")\n",
        "            return None\n",
        "    except requests.exceptions.RequestException as e:\n",
        "        print(\"リクエストエラー:\", e)\n",
        "        return None\n",
        "\n",
        "# GitHubアカウント名を指定して情報を取得する例\n",
        "github_username = \"grace2riku\"  # 指定したいGitHubアカウント名をここに入力\n",
        "\n",
        "user_info = get_github_user_info(github_username)\n",
        "if user_info:\n",
        "    print(f\"GitHubアカウント名: {user_info['login']}\")\n",
        "    print(f\"ユーザーID: {user_info['id']}\")\n",
        "    print(f\"名前: {user_info['name']}\")\n",
        "    print(f\"フォロワー数: {user_info['followers']}\")\n",
        "    print(f\"フォロー数: {user_info['following']}\")\n",
        "    print(f\"公開リポジトリ数: {user_info['public_repos']}\")\n",
        "    print(f\"ブログURL: {user_info['blog']}\")\n",
        "    # 他の属性も必要に応じて表示できます\n",
        "else:\n",
        "    print(\"GitHubアカウント情報の取得に失敗しました。\")\n"
      ],
      "metadata": {
        "id": "iHKtLzo-uRdu",
        "outputId": "b4dda437-1312-4aad-f7ef-91284285e907",
        "colab": {
          "base_uri": "https://localhost:8080/"
        }
      },
      "execution_count": 1,
      "outputs": [
        {
          "output_type": "stream",
          "name": "stdout",
          "text": [
            "GitHubアカウント名: grace2riku\n",
            "ユーザーID: 34134188\n",
            "名前: None\n",
            "フォロワー数: 76\n",
            "フォロー数: 203\n",
            "公開リポジトリ数: 82\n",
            "ブログURL: https://lapras.com/public/k-abe\n"
          ]
        }
      ]
    }
  ]
}