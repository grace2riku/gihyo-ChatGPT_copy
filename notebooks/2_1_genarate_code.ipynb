{
  "nbformat": 4,
  "nbformat_minor": 0,
  "metadata": {
    "colab": {
      "provenance": [],
      "authorship_tag": "ABX9TyOKh5g//7pjlLD7tcchQsZc",
      "include_colab_link": true
    },
    "kernelspec": {
      "name": "python3",
      "display_name": "Python 3"
    },
    "language_info": {
      "name": "python"
    }
  },
  "cells": [
    {
      "cell_type": "markdown",
      "metadata": {
        "id": "view-in-github",
        "colab_type": "text"
      },
      "source": [
        "<a href=\"https://colab.research.google.com/github/grace2riku/gihyo-ChatGPT_copy/blob/main/notebooks/2_1_genarate_code.ipynb\" target=\"_parent\"><img src=\"https://colab.research.google.com/assets/colab-badge.svg\" alt=\"Open In Colab\"/></a>"
      ]
    },
    {
      "cell_type": "code",
      "source": [
        "import re\n",
        "\n",
        "def validate_password(password):\n",
        "    # 正規表現パターンを定義\n",
        "    pattern = r\"^(?=.*[a-z])(?=.*[A-Z])(?=.*\\d)(?=.*[@$!%*?&])[A-Za-z\\d@$!%*?&]{8,}$\"\n",
        "    # パスワードを検証\n",
        "    if re.match(pattern, password):\n",
        "        return True\n",
        "    else:\n",
        "        return False\n",
        "\n",
        "# パスワードを入力して検証する例\n",
        "password = input(\"パスワードを入力してください: \")\n",
        "\n",
        "if validate_password(password):\n",
        "    print(\"パスワードが有効です。\")\n",
        "else:\n",
        "    print(\"パスワードが無効です。\")\n"
      ],
      "metadata": {
        "colab": {
          "base_uri": "https://localhost:8080/"
        },
        "id": "WjJLkSvqt7Vr",
        "outputId": "8ed64360-49d1-45fa-dbb3-a222f3055cc9"
      },
      "execution_count": 4,
      "outputs": [
        {
          "output_type": "stream",
          "name": "stdout",
          "text": [
            "パスワードを入力してください: Abc123$%Zyy\n",
            "パスワードが有効です。\n"
          ]
        }
      ]
    }
  ]
}