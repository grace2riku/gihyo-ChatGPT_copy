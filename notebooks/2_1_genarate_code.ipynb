{
  "nbformat": 4,
  "nbformat_minor": 0,
  "metadata": {
    "colab": {
      "provenance": [],
      "authorship_tag": "ABX9TyPWj9M64xve5H+We/KvMQwK",
      "include_colab_link": true
    },
    "kernelspec": {
      "name": "python3",
      "display_name": "Python 3"
    },
    "language_info": {
      "name": "python"
    }
  },
  "cells": [
    {
      "cell_type": "markdown",
      "metadata": {
        "id": "view-in-github",
        "colab_type": "text"
      },
      "source": [
        "<a href=\"https://colab.research.google.com/github/grace2riku/gihyo-ChatGPT_copy/blob/main/notebooks/2_1_genarate_code.ipynb\" target=\"_parent\"><img src=\"https://colab.research.google.com/assets/colab-badge.svg\" alt=\"Open In Colab\"/></a>"
      ]
    },
    {
      "cell_type": "markdown",
      "source": [
        "理解はしているが苦手なものを任せる"
      ],
      "metadata": {
        "id": "pyCgI7dmvoLb"
      }
    },
    {
      "cell_type": "code",
      "source": [
        "import re\n",
        "\n",
        "def validate_password(password):\n",
        "    # 正規表現パターンを定義\n",
        "    pattern = r\"^(?=.*[a-z])(?=.*[A-Z])(?=.*\\d)(?=.*[@$!%*?&])[A-Za-z\\d@$!%*?&]{8,}$\"\n",
        "    # パスワードを検証\n",
        "    if re.match(pattern, password):\n",
        "        return True\n",
        "    else:\n",
        "        return False\n",
        "\n",
        "# パスワードを入力して検証する例\n",
        "password = input(\"パスワードを入力してください: \")\n",
        "\n",
        "if validate_password(password):\n",
        "    print(\"パスワードが有効です。\")\n",
        "else:\n",
        "    print(\"パスワードが無効です。\")\n"
      ],
      "metadata": {
        "colab": {
          "base_uri": "https://localhost:8080/"
        },
        "id": "WjJLkSvqt7Vr",
        "outputId": "8ed64360-49d1-45fa-dbb3-a222f3055cc9"
      },
      "execution_count": null,
      "outputs": [
        {
          "output_type": "stream",
          "name": "stdout",
          "text": [
            "パスワードを入力してください: Abc123$%Zyy\n",
            "パスワードが有効です。\n"
          ]
        }
      ]
    },
    {
      "cell_type": "code",
      "source": [
        "def read_text_file(file_path):\n",
        "    try:\n",
        "        with open(file_path, 'r', encoding='cp932', errors='ignore') as file:\n",
        "            content = file.read()\n",
        "            return content\n",
        "    except FileNotFoundError:\n",
        "        print(\"ファイルが見つかりませんでした。\")\n",
        "    except Exception as e:\n",
        "        print(\"エラーが発生しました:\", e)\n",
        "\n",
        "# ファイルのパスを指定してテキストファイルを読み込む例\n",
        "file_path = \"example.txt\"  # 任意のファイルパスを指定してください\n",
        "\n",
        "content = read_text_file(file_path)\n",
        "if content:\n",
        "    print(\"ファイル内容:\")\n",
        "    print(content)\n"
      ],
      "metadata": {
        "colab": {
          "base_uri": "https://localhost:8080/"
        },
        "id": "zeim-xq1w1d6",
        "outputId": "deba2bff-439d-4062-d662-7bb71c1c23ad"
      },
      "execution_count": null,
      "outputs": [
        {
          "output_type": "stream",
          "name": "stdout",
          "text": [
            "ファイルが見つかりませんでした。\n"
          ]
        }
      ]
    },
    {
      "cell_type": "markdown",
      "source": [
        "小さな単位で依頼する"
      ],
      "metadata": {
        "id": "f8t-zXqJuJhg"
      }
    },
    {
      "cell_type": "code",
      "source": [
        "import requests\n",
        "\n",
        "def get_github_user_info(username):\n",
        "    url = f'https://api.github.com/users/{username}'\n",
        "    try:\n",
        "        response = requests.get(url)\n",
        "        if response.status_code == 200:\n",
        "            user_data = response.json()\n",
        "            return user_data\n",
        "        else:\n",
        "            print(f\"GitHub APIエラー: {response.status_code}\")\n",
        "            return None\n",
        "    except requests.exceptions.RequestException as e:\n",
        "        print(\"リクエストエラー:\", e)\n",
        "        return None\n",
        "\n",
        "# GitHubアカウント名を指定して情報を取得する例\n",
        "github_username = \"grace2riku\"  # 指定したいGitHubアカウント名をここに入力\n",
        "\n",
        "user_info = get_github_user_info(github_username)\n",
        "if user_info:\n",
        "    print(f\"GitHubアカウント名: {user_info['login']}\")\n",
        "    print(f\"ユーザーID: {user_info['id']}\")\n",
        "    print(f\"名前: {user_info['name']}\")\n",
        "    print(f\"フォロワー数: {user_info['followers']}\")\n",
        "    print(f\"フォロー数: {user_info['following']}\")\n",
        "    print(f\"公開リポジトリ数: {user_info['public_repos']}\")\n",
        "    print(f\"ブログURL: {user_info['blog']}\")\n",
        "    # 他の属性も必要に応じて表示できます\n",
        "else:\n",
        "    print(\"GitHubアカウント情報の取得に失敗しました。\")\n"
      ],
      "metadata": {
        "colab": {
          "base_uri": "https://localhost:8080/"
        },
        "id": "iHKtLzo-uRdu",
        "outputId": "b4dda437-1312-4aad-f7ef-91284285e907"
      },
      "execution_count": null,
      "outputs": [
        {
          "output_type": "stream",
          "name": "stdout",
          "text": [
            "GitHubアカウント名: grace2riku\n",
            "ユーザーID: 34134188\n",
            "名前: None\n",
            "フォロワー数: 76\n",
            "フォロー数: 203\n",
            "公開リポジトリ数: 82\n",
            "ブログURL: https://lapras.com/public/k-abe\n"
          ]
        }
      ]
    },
    {
      "cell_type": "markdown",
      "source": [
        "**関数に対してテストコードも一緒に生成する**\n"
      ],
      "metadata": {
        "id": "gqK2Q5Efzd5t"
      }
    },
    {
      "cell_type": "code",
      "source": [
        "import requests\n",
        "\n",
        "def get_github_user_info(username):\n",
        "    url = f'https://api.github.com/users/{username}'\n",
        "    try:\n",
        "        response = requests.get(url)\n",
        "        if response.status_code == 200:\n",
        "            user_data = response.json()\n",
        "            return user_data\n",
        "        elif response.status_code == 404:\n",
        "            print(f\"GitHubアカウント '{username}' が見つかりませんでした。\")\n",
        "            return None\n",
        "        else:\n",
        "            print(f\"GitHub APIエラー: {response.status_code}\")\n",
        "            return None\n",
        "    except requests.exceptions.RequestException as e:\n",
        "        print(\"リクエストエラー:\", e)\n",
        "        return None\n",
        "\n",
        "def test_github_user_info():\n",
        "    # 正常系テスト: 有効なGitHubアカウント名を指定\n",
        "    github_username = \"grace2riku\"\n",
        "    user_info = get_github_user_info(github_username)\n",
        "    if user_info:\n",
        "        print(f\"GitHubアカウント名: {user_info['login']}\")\n",
        "        print(f\"ユーザーID: {user_info['id']}\")\n",
        "        print(f\"名前: {user_info['name']}\")\n",
        "        print(f\"フォロワー数: {user_info['followers']}\")\n",
        "        print(f\"フォロー数: {user_info['following']}\")\n",
        "        print(f\"公開リポジトリ数: {user_info['public_repos']}\")\n",
        "        print(f\"ブログURL: {user_info['blog']}\")\n",
        "        print(\"\\n正常系テストが成功しました。\\n\")\n",
        "    else:\n",
        "        print(\"GitHubアカウント情報の取得に失敗しました。\")\n",
        "\n",
        "    # 異常系テスト: 存在しないGitHubアカウント名を指定\n",
        "    invalid_github_username = \"invalid_username\"\n",
        "    user_info = get_github_user_info(invalid_github_username)\n",
        "    if user_info is None:\n",
        "        print(f\"GitHubアカウント '{invalid_github_username}' が見つかりませんでした。\\n異常系テストが成功しました。\")\n",
        "\n",
        "if __name__ == \"__main__\":\n",
        "    test_github_user_info()\n"
      ],
      "metadata": {
        "id": "rk8Z6F_0zrfD",
        "outputId": "dc90c187-385b-4f5b-d21d-5e0810a29754",
        "colab": {
          "base_uri": "https://localhost:8080/"
        }
      },
      "execution_count": null,
      "outputs": [
        {
          "output_type": "stream",
          "name": "stdout",
          "text": [
            "GitHubアカウント名: grace2riku\n",
            "ユーザーID: 34134188\n",
            "名前: None\n",
            "フォロワー数: 76\n",
            "フォロー数: 203\n",
            "公開リポジトリ数: 82\n",
            "ブログURL: https://lapras.com/public/k-abe\n",
            "\n",
            "正常系テストが成功しました。\n",
            "\n",
            "GitHubアカウント 'invalid_username' が見つかりませんでした。\n",
            "GitHubアカウント 'invalid_username' が見つかりませんでした。\n",
            "異常系テストが成功しました。\n"
          ]
        }
      ]
    },
    {
      "cell_type": "markdown",
      "source": [
        "unittest版"
      ],
      "metadata": {
        "id": "iJZMR0TwaQqU"
      }
    },
    {
      "cell_type": "code",
      "source": [
        "import requests\n",
        "import unittest\n",
        "\n",
        "def get_github_user_info(username):\n",
        "    url = f'https://api.github.com/users/{username}'\n",
        "    try:\n",
        "        response = requests.get(url)\n",
        "        if response.status_code == 200:\n",
        "            user_data = response.json()\n",
        "            return user_data\n",
        "        elif response.status_code == 404:\n",
        "            print(f\"GitHubアカウント '{username}' が見つかりませんでした。\")\n",
        "            return None\n",
        "        else:\n",
        "            print(f\"GitHub APIエラー: {response.status_code}\")\n",
        "            return None\n",
        "    except requests.exceptions.RequestException as e:\n",
        "        print(\"リクエストエラー:\", e)\n",
        "        return None\n",
        "\n",
        "class TestGitHubUserInfo(unittest.TestCase):\n",
        "    def test_valid_github_user_info(self):\n",
        "        github_username = \"grace2riku\"\n",
        "        user_info = get_github_user_info(github_username)\n",
        "        self.assertIsNotNone(user_info)\n",
        "        self.assertEqual(user_info['login'], github_username)\n",
        "\n",
        "    def test_invalid_github_user_info(self):\n",
        "        invalid_github_username = \"invalid_username\"\n",
        "        user_info = get_github_user_info(invalid_github_username)\n",
        "        self.assertIsNone(user_info)\n",
        "\n",
        "if __name__ == \"__main__\":\n",
        "    unittest.main()\n"
      ],
      "metadata": {
        "id": "X5xzc_Tgas98",
        "outputId": "3a04c59c-83fb-492a-ce6c-bc073d80ae10",
        "colab": {
          "base_uri": "https://localhost:8080/",
          "height": 363
        }
      },
      "execution_count": 2,
      "outputs": [
        {
          "output_type": "stream",
          "name": "stderr",
          "text": [
            "E\n",
            "======================================================================\n",
            "ERROR: /root/ (unittest.loader._FailedTest)\n",
            "----------------------------------------------------------------------\n",
            "AttributeError: module '__main__' has no attribute '/root/'\n",
            "\n",
            "----------------------------------------------------------------------\n",
            "Ran 1 test in 0.002s\n",
            "\n",
            "FAILED (errors=1)\n"
          ]
        },
        {
          "output_type": "error",
          "ename": "SystemExit",
          "evalue": "ignored",
          "traceback": [
            "An exception has occurred, use %tb to see the full traceback.\n",
            "\u001b[0;31mSystemExit\u001b[0m\u001b[0;31m:\u001b[0m True\n"
          ]
        },
        {
          "output_type": "stream",
          "name": "stderr",
          "text": [
            "/usr/local/lib/python3.10/dist-packages/IPython/core/interactiveshell.py:3561: UserWarning: To exit: use 'exit', 'quit', or Ctrl-D.\n",
            "  warn(\"To exit: use 'exit', 'quit', or Ctrl-D.\", stacklevel=1)\n"
          ]
        }
      ]
    },
    {
      "cell_type": "markdown",
      "source": [
        "エラーになったのでコード修正を依頼した"
      ],
      "metadata": {
        "id": "a6RNEPGBbRFE"
      }
    },
    {
      "cell_type": "code",
      "source": [
        "import requests\n",
        "import unittest\n",
        "\n",
        "def get_github_user_info(username):\n",
        "    url = f'https://api.github.com/users/{username}'\n",
        "    try:\n",
        "        response = requests.get(url)\n",
        "        if response.status_code == 200:\n",
        "            user_data = response.json()\n",
        "            return user_data\n",
        "        elif response.status_code == 404:\n",
        "            print(f\"GitHubアカウント '{username}' が見つかりませんでした。\")\n",
        "            return None\n",
        "        else:\n",
        "            print(f\"GitHub APIエラー: {response.status_code}\")\n",
        "            return None\n",
        "    except requests.exceptions.RequestException as e:\n",
        "        print(\"リクエストエラー:\", e)\n",
        "        return None\n",
        "\n",
        "class TestGitHubUserInfo(unittest.TestCase):\n",
        "    def test_valid_github_user_info(self):\n",
        "        github_username = \"grace2riku\"\n",
        "        user_info = get_github_user_info(github_username)\n",
        "        self.assertIsNotNone(user_info)\n",
        "        self.assertEqual(user_info['login'], github_username)\n",
        "\n",
        "    def test_invalid_github_user_info(self):\n",
        "        invalid_github_username = \"invalid_username\"\n",
        "        user_info = get_github_user_info(invalid_github_username)\n",
        "        self.assertIsNone(user_info)\n",
        "\n",
        "if __name__ == \"__main__\":\n",
        "    # unittestのテストランナーを作成してテストを実行\n",
        "    unittest.TextTestRunner(verbosity=2).run(unittest.TestLoader().loadTestsFromTestCase(TestGitHubUserInfo))\n"
      ],
      "metadata": {
        "id": "PhgXhUX6bKIg",
        "outputId": "380521c9-cb78-4f47-b0b2-bc5241ea1adf",
        "colab": {
          "base_uri": "https://localhost:8080/"
        }
      },
      "execution_count": 3,
      "outputs": [
        {
          "output_type": "stream",
          "name": "stderr",
          "text": [
            "test_invalid_github_user_info (__main__.TestGitHubUserInfo) ... ok\n",
            "test_valid_github_user_info (__main__.TestGitHubUserInfo) ... "
          ]
        },
        {
          "output_type": "stream",
          "name": "stdout",
          "text": [
            "GitHubアカウント 'invalid_username' が見つかりませんでした。\n"
          ]
        },
        {
          "output_type": "stream",
          "name": "stderr",
          "text": [
            "ok\n",
            "\n",
            "----------------------------------------------------------------------\n",
            "Ran 2 tests in 0.938s\n",
            "\n",
            "OK\n"
          ]
        }
      ]
    }
  ]
}