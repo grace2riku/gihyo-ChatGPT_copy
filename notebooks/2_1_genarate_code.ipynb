{
  "nbformat": 4,
  "nbformat_minor": 0,
  "metadata": {
    "colab": {
      "provenance": [],
      "authorship_tag": "ABX9TyPabpByOdksu3h+HMaIs2mW",
      "include_colab_link": true
    },
    "kernelspec": {
      "name": "python3",
      "display_name": "Python 3"
    },
    "language_info": {
      "name": "python"
    }
  },
  "cells": [
    {
      "cell_type": "markdown",
      "metadata": {
        "id": "view-in-github",
        "colab_type": "text"
      },
      "source": [
        "<a href=\"https://colab.research.google.com/github/grace2riku/gihyo-ChatGPT_copy/blob/main/notebooks/2_1_genarate_code.ipynb\" target=\"_parent\"><img src=\"https://colab.research.google.com/assets/colab-badge.svg\" alt=\"Open In Colab\"/></a>"
      ]
    },
    {
      "cell_type": "markdown",
      "source": [
        "理解はしているが苦手なものを任せる"
      ],
      "metadata": {
        "id": "pyCgI7dmvoLb"
      }
    },
    {
      "cell_type": "code",
      "source": [
        "import re\n",
        "\n",
        "def validate_password(password):\n",
        "    # 正規表現パターンを定義\n",
        "    pattern = r\"^(?=.*[a-z])(?=.*[A-Z])(?=.*\\d)(?=.*[@$!%*?&])[A-Za-z\\d@$!%*?&]{8,}$\"\n",
        "    # パスワードを検証\n",
        "    if re.match(pattern, password):\n",
        "        return True\n",
        "    else:\n",
        "        return False\n",
        "\n",
        "# パスワードを入力して検証する例\n",
        "password = input(\"パスワードを入力してください: \")\n",
        "\n",
        "if validate_password(password):\n",
        "    print(\"パスワードが有効です。\")\n",
        "else:\n",
        "    print(\"パスワードが無効です。\")\n"
      ],
      "metadata": {
        "colab": {
          "base_uri": "https://localhost:8080/"
        },
        "id": "WjJLkSvqt7Vr",
        "outputId": "8ed64360-49d1-45fa-dbb3-a222f3055cc9"
      },
      "execution_count": 4,
      "outputs": [
        {
          "output_type": "stream",
          "name": "stdout",
          "text": [
            "パスワードを入力してください: Abc123$%Zyy\n",
            "パスワードが有効です。\n"
          ]
        }
      ]
    },
    {
      "cell_type": "code",
      "source": [
        "def read_text_file(file_path):\n",
        "    try:\n",
        "        with open(file_path, 'r', encoding='cp932', errors='ignore') as file:\n",
        "            content = file.read()\n",
        "            return content\n",
        "    except FileNotFoundError:\n",
        "        print(\"ファイルが見つかりませんでした。\")\n",
        "    except Exception as e:\n",
        "        print(\"エラーが発生しました:\", e)\n",
        "\n",
        "# ファイルのパスを指定してテキストファイルを読み込む例\n",
        "file_path = \"example.txt\"  # 任意のファイルパスを指定してください\n",
        "\n",
        "content = read_text_file(file_path)\n",
        "if content:\n",
        "    print(\"ファイル内容:\")\n",
        "    print(content)\n"
      ],
      "metadata": {
        "colab": {
          "base_uri": "https://localhost:8080/"
        },
        "id": "zeim-xq1w1d6",
        "outputId": "deba2bff-439d-4062-d662-7bb71c1c23ad"
      },
      "execution_count": 5,
      "outputs": [
        {
          "output_type": "stream",
          "name": "stdout",
          "text": [
            "ファイルが見つかりませんでした。\n"
          ]
        }
      ]
    }
  ]
}